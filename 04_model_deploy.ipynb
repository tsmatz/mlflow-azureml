{
 "cells": [
  {
   "cell_type": "markdown",
   "id": "3cd96582",
   "metadata": {},
   "source": [
    "# Exercise 04 : Register Model / Deploy Model\n",
    "\n",
    "In this exercise, we will create a trained model and\n",
    "\n",
    "- Register this model in Azure ML model management\n",
    "- Deploy this model as web service in Azure\n",
    "\n",
    "*back to [index](https://github.com/tsmatz/mlflow-azureml/)*"
   ]
  },
  {
   "cell_type": "markdown",
   "id": "2e20179b",
   "metadata": {},
   "source": [
    "## 1. Create a trained model"
   ]
  },
  {
   "cell_type": "markdown",
   "id": "a5e56d2c",
   "metadata": {},
   "source": [
    "First, set AML workspace for MLflow tracking URI."
   ]
  },
  {
   "cell_type": "code",
   "execution_count": 1,
   "id": "a2e3334c",
   "metadata": {},
   "outputs": [],
   "source": [
    "from azureml.core import Workspace\n",
    "import mlflow\n",
    "\n",
    "ws = Workspace.get(\n",
    "    name = \"<FILL-AML-WORKSPACE-NAME>\",\n",
    "    subscription_id = \"<FILL-AZURE-SUBSCRIPTION-ID>\",\n",
    "    resource_group = \"<FILL-RESOUCE-GROUP-NAME>\")\n",
    "tracking_uri = ws.get_mlflow_tracking_uri()\n",
    "mlflow.set_tracking_uri(tracking_uri)"
   ]
  },
  {
   "cell_type": "markdown",
   "id": "08dc47b0",
   "metadata": {},
   "source": [
    "Set experiment name."
   ]
  },
  {
   "cell_type": "code",
   "execution_count": 2,
   "id": "13d3d3eb",
   "metadata": {},
   "outputs": [
    {
     "name": "stderr",
     "output_type": "stream",
     "text": [
      "2022/03/10 06:58:56 INFO mlflow.tracking.fluent: Experiment with name 'exercise04-generate-model' does not exist. Creating a new experiment.\n"
     ]
    },
    {
     "data": {
      "text/plain": [
       "<Experiment: artifact_location='', experiment_id='ab85e6ca-1b21-436b-821d-055b04fc6c8c', lifecycle_stage='active', name='exercise04-generate-model', tags={}>"
      ]
     },
     "execution_count": 2,
     "metadata": {},
     "output_type": "execute_result"
    }
   ],
   "source": [
    "experimentName = \"exercise04-generate-model\"\n",
    "mlflow.set_experiment(experimentName)"
   ]
  },
  {
   "cell_type": "markdown",
   "id": "695ce142",
   "metadata": {},
   "source": [
    "Run training and generate model."
   ]
  },
  {
   "cell_type": "code",
   "execution_count": 3,
   "id": "8d0ace8b",
   "metadata": {},
   "outputs": [
    {
     "name": "stdout",
     "output_type": "stream",
     "text": [
      "completed training with alpha=0.2 l1_ratio=0.9\n"
     ]
    }
   ],
   "source": [
    "import os\n",
    "import sys\n",
    "\n",
    "import pandas as pd\n",
    "from sklearn.linear_model import ElasticNet\n",
    "import mlflow\n",
    "\n",
    "alpha=0.2\n",
    "l1_ratio=0.9\n",
    "\n",
    "# Read the wine-quality csv file from the URL\n",
    "csv_url = (\n",
    "    \"http://archive.ics.uci.edu/ml/machine-learning-databases/wine-quality/winequality-red.csv\"\n",
    ")\n",
    "data = pd.read_csv(csv_url, sep=\";\")\n",
    "\n",
    "# The predicted column is \"quality\" which is a scalar from [3, 9]\n",
    "train_x = data.drop([\"quality\"], axis=1)\n",
    "train_y = data[[\"quality\"]]\n",
    "\n",
    "mlflow.sklearn.autolog()\n",
    "\n",
    "with mlflow.start_run() as my_run:\n",
    "    lr = ElasticNet(alpha=alpha, l1_ratio=l1_ratio, random_state=42)\n",
    "    lr.fit(train_x, train_y)\n",
    "mlflow.end_run()\n",
    "\n",
    "print(\"completed training with alpha={} l1_ratio={}\".format(alpha, l1_ratio))"
   ]
  },
  {
   "cell_type": "markdown",
   "id": "c46341b1",
   "metadata": {},
   "source": [
    "After the training has completed, please make sure that the trained model is in ```model\"``` folder.\n",
    "\n",
    "![Model output](./images/model_output.png)"
   ]
  },
  {
   "cell_type": "markdown",
   "id": "bc4bf957",
   "metadata": {},
   "source": [
    "## 2. Register model"
   ]
  },
  {
   "cell_type": "markdown",
   "id": "c7cd3193",
   "metadata": {},
   "source": [
    "Register model in Azure ML model management.<br>\n",
    "After registration, you can manually deploy model using Python SDK, CLI/YAML, or Azure ML studio UI. (Here I just register a model.)"
   ]
  },
  {
   "cell_type": "code",
   "execution_count": 4,
   "id": "1e4e1b3e",
   "metadata": {},
   "outputs": [
    {
     "name": "stderr",
     "output_type": "stream",
     "text": [
      "Successfully registered model 'registered_model_test'.\n",
      "2022/03/10 06:59:20 INFO mlflow.tracking._model_registry.client: Waiting up to 300 seconds for model version to finish creation.                     Model name: registered_model_test, version 1\n",
      "Created version '1' of model 'registered_model_test'.\n"
     ]
    },
    {
     "data": {
      "text/plain": [
       "<ModelVersion: creation_timestamp=1646895559953, current_stage='None', description='', last_updated_timestamp=1646895559953, name='registered_model_test', run_id='17f8fa2b-207d-4d1a-9d77-89512bf2511f', run_link='', source='azureml://experiments/exercise04-generate-model/runs/17f8fa2b-207d-4d1a-9d77-89512bf2511f/artifacts/model', status='READY', status_message='', tags={}, user_id='', version='1'>"
      ]
     },
     "execution_count": 4,
     "metadata": {},
     "output_type": "execute_result"
    }
   ],
   "source": [
    "model_path = \"model\"\n",
    "model_uri = 'runs:/{}/{}'.format(my_run.info.run_id, model_path)\n",
    "mlflow.register_model(model_uri, \"registered_model_test\")"
   ]
  },
  {
   "cell_type": "markdown",
   "id": "1895b7b3",
   "metadata": {},
   "source": [
    "Please make sure that model is registered in Azure ML model management. (Select \"Models\" in [Azure ML studio UI](https://ml.azure.com/).)\n",
    "\n",
    "![Registered model](./images/registered_model.png)"
   ]
  },
  {
   "cell_type": "markdown",
   "id": "a070dc9a",
   "metadata": {},
   "source": [
    "## 3. Deploy model\n",
    "\n",
    "You can deploy the trained model as web service in Azure.<br>\n",
    "In this exercise, I will deploy the above model in Azure ML managed realtime endpoint (v2 endpoint)."
   ]
  },
  {
   "cell_type": "markdown",
   "id": "7faa9bd1",
   "metadata": {},
   "source": [
    "In MLflow deployment, the entry script (scoring script) is automatically generated by using the model specification.<br>\n",
    "In order for making the model deployment enable, you should then log your model with a signature, which is the specification document, such as, inputs spec, outputs spec, etc.<br>\n",
    "In scikit-learn model, the signature can be automatically inferred and saved as ```MLmodel``` file, but here I explicitly define the signature as follows.<br>\n",
    "In this example, this model (with signature) is saved in ```model_with_sig``` folder."
   ]
  },
  {
   "cell_type": "code",
   "execution_count": 5,
   "id": "0b953b57",
   "metadata": {},
   "outputs": [],
   "source": [
    "from mlflow.models.signature import ModelSignature\n",
    "from mlflow.types.schema import Schema, ColSpec\n",
    "\n",
    "input_schema = Schema([\n",
    "  ColSpec(\"double\", \"fixed acidity\"),\n",
    "  ColSpec(\"double\", \"volatile acidity\"),\n",
    "  ColSpec(\"double\", \"citric acid\"),\n",
    "  ColSpec(\"double\", \"residual sugar\"),\n",
    "  ColSpec(\"double\", \"chlorides\"),\n",
    "  ColSpec(\"double\", \"free sulfur dioxide\"),\n",
    "  ColSpec(\"double\", \"total sulfur dioxide\"),\n",
    "  ColSpec(\"double\", \"density\"),\n",
    "  ColSpec(\"double\", \"pH\"),\n",
    "  ColSpec(\"double\", \"sulphates\"),\n",
    "  ColSpec(\"double\", \"alcohol\"),\n",
    "])\n",
    "output_schema = Schema([ColSpec(\"integer\")])\n",
    "signature = ModelSignature(inputs=input_schema, outputs=output_schema)\n",
    "\n",
    "mlflow.sklearn.autolog()\n",
    "\n",
    "with mlflow.start_run() as my_run:\n",
    "    lr = ElasticNet(alpha=alpha, l1_ratio=l1_ratio, random_state=42)\n",
    "    lr.fit(train_x, train_y)\n",
    "\n",
    "    model_path_with_sig = \"model_with_sig\"\n",
    "    mlflow.sklearn.log_model(lr, model_path_with_sig, signature=signature)\n",
    "\n",
    "mlflow.end_run()"
   ]
  },
  {
   "cell_type": "markdown",
   "id": "2817b7dd",
   "metadata": {},
   "source": [
    "Here we define deployment configuration in ```v2_deploy_config.json``` file.\n",
    "\n",
    "In this configuration, I define configuration for Azure ML managed realtime endpoint (v2 endpoint).<br>\n",
    "See [here](https://github.com/tsmatz/azureml-tutorial/blob/master/cli_yaml/exercise08_publish_model.ipynb) for v2 deployment configuration parameters. (The traffic will be automatically allocated as 100 %.)"
   ]
  },
  {
   "cell_type": "code",
   "execution_count": 6,
   "id": "81764224",
   "metadata": {},
   "outputs": [
    {
     "name": "stdout",
     "output_type": "stream",
     "text": [
      "Writing v2_deploy_config.json\n"
     ]
    }
   ],
   "source": [
    "%%writefile v2_deploy_config.json\n",
    "{\n",
    "    \"type\": \"managed\",\n",
    "    \"name\": \"mlflow-deploy-test\",\n",
    "    \"instance_type\": \"Standard_DS2_v2\",\n",
    "    \"instance_count\": 1\n",
    "}"
   ]
  },
  {
   "cell_type": "markdown",
   "id": "e9c1f030",
   "metadata": {},
   "source": [
    "Now let's deploy your model in Azure ML managed endpoint with MLflow API.<br>\n",
    "Before deployment, the model is also registered in Azure ML model management."
   ]
  },
  {
   "cell_type": "code",
   "execution_count": 7,
   "id": "00cac899",
   "metadata": {},
   "outputs": [
    {
     "name": "stderr",
     "output_type": "stream",
     "text": [
      "Successfully registered model 'managed-endpoint-test-model'.\n",
      "2022/03/10 07:00:04 INFO mlflow.tracking._model_registry.client: Waiting up to 300 seconds for model version to finish creation.                     Model name: managed-endpoint-test-model, version 1\n",
      "Created version '1' of model 'managed-endpoint-test-model'.\n"
     ]
    },
    {
     "data": {
      "text/plain": [
       "{'id': '/subscriptions/b3ae1c15-4fef-4362-8c3a-5d804cdeb18d/resourceGroups/AzureML-rg/providers/Microsoft.MachineLearningServices/workspaces/ws01/onlineEndpoints/managed-endpoint-test',\n",
       " 'name': 'managed-endpoint-test',\n",
       " 'type': 'Microsoft.MachineLearningServices/workspaces/onlineEndpoints',\n",
       " 'properties': {'description': None,\n",
       "  'properties': {'azureml.mlflow_client_endpoint': 'True',\n",
       "   'azureml.onlineendpointid': '/subscriptions/b3ae1c15-4fef-4362-8c3a-5d804cdeb18d/resourcegroups/azureml-rg/providers/microsoft.machinelearningservices/workspaces/ws01/onlineendpoints/managed-endpoint-test',\n",
       "   'AzureAsyncOperationUri': 'https://management.azure.com/subscriptions/b3ae1c15-4fef-4362-8c3a-5d804cdeb18d/providers/Microsoft.MachineLearningServices/locations/eastus/mfeOperationsStatus/oe:40c749df-66a2-4080-86e6-25acecf8e129:7e7cf27a-0c25-4d78-8642-656f09aa3e42?api-version=2021-10-01'},\n",
       "  'scoringUri': 'https://managed-endpoint-test.eastus.inference.ml.azure.com/score',\n",
       "  'swaggerUri': 'https://managed-endpoint-test.eastus.inference.ml.azure.com/swagger.json',\n",
       "  'authMode': 'AMLToken',\n",
       "  'provisioningState': 'Succeeded',\n",
       "  'compute': None,\n",
       "  'traffic': {'managed-endpoint-test': 100}},\n",
       " 'systemData': {'createdAt': '2022-03-10T07:00:08.4817179Z',\n",
       "  'createdBy': 'Tsuyoshi Matsuzaki',\n",
       "  'lastModifiedAt': '2022-03-10T07:08:20.6042798Z'},\n",
       " 'tags': {},\n",
       " 'location': 'eastus',\n",
       " 'kind': 'Managed',\n",
       " 'flavor': 'python_function'}"
      ]
     },
     "execution_count": 7,
     "metadata": {},
     "output_type": "execute_result"
    }
   ],
   "source": [
    "from mlflow.deployments import get_deploy_client\n",
    "\n",
    "client = get_deploy_client(mlflow.get_tracking_uri())\n",
    "test_config = {\"deploy-config-file\": \"v2_deploy_config.json\"}\n",
    "client.create_deployment(\n",
    "    model_uri='runs:/{}/{}'.format(my_run.info.run_id, model_path_with_sig),\n",
    "    config=test_config,\n",
    "    name=\"managed-endpoint-test\")"
   ]
  },
  {
   "cell_type": "markdown",
   "id": "aba5f43c",
   "metadata": {},
   "source": [
    "After the deployment has succeeded, you can invoke a web service with MLflow client API."
   ]
  },
  {
   "cell_type": "code",
   "execution_count": 8,
   "id": "6083c194",
   "metadata": {},
   "outputs": [
    {
     "data": {
      "text/html": [
       "<div>\n",
       "<style scoped>\n",
       "    .dataframe tbody tr th:only-of-type {\n",
       "        vertical-align: middle;\n",
       "    }\n",
       "\n",
       "    .dataframe tbody tr th {\n",
       "        vertical-align: top;\n",
       "    }\n",
       "\n",
       "    .dataframe thead th {\n",
       "        text-align: right;\n",
       "    }\n",
       "</style>\n",
       "<table border=\"1\" class=\"dataframe\">\n",
       "  <thead>\n",
       "    <tr style=\"text-align: right;\">\n",
       "      <th></th>\n",
       "      <th>0</th>\n",
       "    </tr>\n",
       "  </thead>\n",
       "  <tbody>\n",
       "    <tr>\n",
       "      <th>0</th>\n",
       "      <td>5.486353</td>\n",
       "    </tr>\n",
       "    <tr>\n",
       "      <th>1</th>\n",
       "      <td>5.481393</td>\n",
       "    </tr>\n",
       "  </tbody>\n",
       "</table>\n",
       "</div>"
      ],
      "text/plain": [
       "          0\n",
       "0  5.486353\n",
       "1  5.481393"
      ]
     },
     "execution_count": 8,
     "metadata": {},
     "output_type": "execute_result"
    }
   ],
   "source": [
    "import numpy as np\n",
    "\n",
    "wine_df = pd.DataFrame(\n",
    "  np.array(\n",
    "    [\n",
    "      [7.4,0.7,0,1.9,0.076,11,34,0.9978,3.51,0.56,9.4],\n",
    "      [7.8,0.88,0,2.6,0.098,25,67,0.9968,3.2,0.68,9.8]\n",
    "    ]),\n",
    "  columns=[\n",
    "    \"fixed acidity\",\n",
    "    \"volatile acidity\",\n",
    "    \"citric acid\",\n",
    "    \"residual sugar\",\n",
    "    \"chlorides\",\n",
    "    \"free sulfur dioxide\",\n",
    "    \"total sulfur dioxide\",\n",
    "    \"density\",\n",
    "    \"pH\",\n",
    "    \"sulphates\",\n",
    "    \"alcohol\"\n",
    "  ])\n",
    "result_df = client.predict(\"managed-endpoint-test\", wine_df)\n",
    "result_df"
   ]
  },
  {
   "cell_type": "markdown",
   "id": "90192342",
   "metadata": {},
   "source": [
    "You can directly invoke by HTTP with serving URI."
   ]
  },
  {
   "cell_type": "code",
   "execution_count": 9,
   "id": "14ea1ef0",
   "metadata": {},
   "outputs": [
    {
     "name": "stdout",
     "output_type": "stream",
     "text": [
      "Scoring URI : https://managed-endpoint-test.eastus.inference.ml.azure.com/score\n",
      "Swagger URI : https://managed-endpoint-test.eastus.inference.ml.azure.com/swagger.json\n"
     ]
    }
   ],
   "source": [
    "deployinfo = client.get_deployment(\"managed-endpoint-test\")\n",
    "print(\"Scoring URI : {}\".format(deployinfo[\"properties\"][\"scoringUri\"]))\n",
    "print(\"Swagger URI : {}\".format(deployinfo[\"properties\"][\"swaggerUri\"]))"
   ]
  },
  {
   "cell_type": "code",
   "execution_count": null,
   "id": "d12efb41",
   "metadata": {},
   "outputs": [],
   "source": []
  }
 ],
 "metadata": {
  "kernelspec": {
   "display_name": "Python 3 (ipykernel)",
   "language": "python",
   "name": "python3"
  },
  "language_info": {
   "codemirror_mode": {
    "name": "ipython",
    "version": 3
   },
   "file_extension": ".py",
   "mimetype": "text/x-python",
   "name": "python",
   "nbconvert_exporter": "python",
   "pygments_lexer": "ipython3",
   "version": "3.8.10"
  }
 },
 "nbformat": 4,
 "nbformat_minor": 5
}
