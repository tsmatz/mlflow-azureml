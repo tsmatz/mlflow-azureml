{
 "cells": [
  {
   "cell_type": "markdown",
   "id": "3cd96582",
   "metadata": {},
   "source": [
    "# Exercise 01 : Track logs and metrics\n",
    "\n",
    "In this exercise, we track logs on training with Azure Machine Learning backend. All tracked data in MLflow is collected in Azure Machine Learning experiments.\n",
    "\n",
    "![AML tracking](./images/aml_tracking.png)\n",
    "\n",
    "*back to [index](https://github.com/tsmatz/mlflow-azureml/)*"
   ]
  },
  {
   "cell_type": "markdown",
   "id": "a5e56d2c",
   "metadata": {},
   "source": [
    "First, get MLflow tracking URI for your Azure Machine Learning workspace, and set this URI as current MLflow tracking."
   ]
  },
  {
   "cell_type": "code",
   "execution_count": 1,
   "id": "a2e3334c",
   "metadata": {},
   "outputs": [],
   "source": [
    "from azureml.core import Workspace\n",
    "import mlflow\n",
    "\n",
    "ws = Workspace.get(\n",
    "    name = \"<FILL-AML-WORKSPACE-NAME>\",\n",
    "    subscription_id = \"<FILL-AZURE-SUBSCRIPTION-ID>\",\n",
    "    resource_group = \"<FILL-RESOUCE-GROUP-NAME>\")\n",
    "tracking_uri = ws.get_mlflow_tracking_uri()\n",
    "mlflow.set_tracking_uri(tracking_uri)"
   ]
  },
  {
   "cell_type": "markdown",
   "id": "92f013d7",
   "metadata": {},
   "source": [
    "When you want to check which tracking scheme is used in current context, run as follows."
   ]
  },
  {
   "cell_type": "code",
   "execution_count": 3,
   "id": "b5957f4b",
   "metadata": {},
   "outputs": [
    {
     "data": {
      "text/plain": [
       "'azureml'"
      ]
     },
     "execution_count": 3,
     "metadata": {},
     "output_type": "execute_result"
    }
   ],
   "source": [
    "from urllib.parse import urlparse\n",
    "\n",
    "urlparse(mlflow.get_tracking_uri()).scheme"
   ]
  },
  {
   "cell_type": "markdown",
   "id": "43b25d2d",
   "metadata": {},
   "source": [
    "Set experiment name for the following experiments."
   ]
  },
  {
   "cell_type": "code",
   "execution_count": 4,
   "id": "f20c5cf7",
   "metadata": {},
   "outputs": [
    {
     "name": "stderr",
     "output_type": "stream",
     "text": [
      "2022/03/10 05:33:52 INFO mlflow.tracking.fluent: Experiment with name 'exercise01-sklearn-autolog-test' does not exist. Creating a new experiment.\n"
     ]
    },
    {
     "data": {
      "text/plain": [
       "<Experiment: artifact_location='', experiment_id='24c883f6-12ae-4426-9538-f0f00f495ccd', lifecycle_stage='active', name='exercise01-sklearn-autolog-test', tags={}>"
      ]
     },
     "execution_count": 4,
     "metadata": {},
     "output_type": "execute_result"
    }
   ],
   "source": [
    "experimentName = \"exercise01-sklearn-autolog-test\"\n",
    "mlflow.set_experiment(experimentName)"
   ]
  },
  {
   "cell_type": "markdown",
   "id": "0f616451",
   "metadata": {},
   "source": [
    "Now we build script for training. (This source code is almost same as [MLflow tutorial sample](https://www.mlflow.org/docs/latest/tutorials-and-examples/tutorial.html).)<br>\n",
    "As you can see below, logs and metrics will be automatically tracked by MLflow's ```autolog()```."
   ]
  },
  {
   "cell_type": "code",
   "execution_count": 5,
   "id": "ccf7ddd2",
   "metadata": {},
   "outputs": [],
   "source": [
    "import os\n",
    "import sys\n",
    "\n",
    "import pandas as pd\n",
    "import numpy as np\n",
    "from sklearn.model_selection import train_test_split\n",
    "from sklearn.metrics import mean_squared_error\n",
    "from sklearn.linear_model import ElasticNet\n",
    "import mlflow\n",
    "\n",
    "def train_model(alpha=0.5, l1_ratio=0.5):\n",
    "    # Read the wine-quality csv file from the URL\n",
    "    csv_url = (\n",
    "        \"http://archive.ics.uci.edu/ml/machine-learning-databases/wine-quality/winequality-red.csv\"\n",
    "    )\n",
    "    data = pd.read_csv(csv_url, sep=\";\")\n",
    "\n",
    "    # Split the data into training and test sets. (0.75, 0.25) split.\n",
    "    train, test = train_test_split(data)\n",
    "\n",
    "    # The predicted column is \"quality\" which is a scalar from [3, 9]\n",
    "    train_x = train.drop([\"quality\"], axis=1)\n",
    "    test_x = test.drop([\"quality\"], axis=1)\n",
    "    train_y = train[[\"quality\"]]\n",
    "    test_y = test[[\"quality\"]]\n",
    "\n",
    "    mlflow.sklearn.autolog()\n",
    "\n",
    "    with mlflow.start_run() as my_run:\n",
    "        lr = ElasticNet(alpha=alpha, l1_ratio=l1_ratio, random_state=42)\n",
    "        lr.fit(train_x, train_y)\n",
    "\n",
    "        predicted_qualities = lr.predict(test_x)\n",
    "        rmse = np.sqrt(mean_squared_error(test_y, predicted_qualities))\n",
    "        print(\"RMSE: %s\" % rmse)\n",
    "\n",
    "    print(\"MLflow run id: %s\" % my_run.info.run_id)\n",
    "    return my_run"
   ]
  },
  {
   "cell_type": "markdown",
   "id": "5a68f6ca",
   "metadata": {},
   "source": [
    "Now let's start training !"
   ]
  },
  {
   "cell_type": "code",
   "execution_count": 6,
   "id": "e3752b01",
   "metadata": {},
   "outputs": [
    {
     "name": "stdout",
     "output_type": "stream",
     "text": [
      "RMSE: 0.7434638228253136\n",
      "MLflow run id: 00a6654a-470f-44bf-85b5-d69b492617df\n"
     ]
    }
   ],
   "source": [
    "run = train_model()"
   ]
  },
  {
   "cell_type": "markdown",
   "id": "b7044d65",
   "metadata": {},
   "source": [
    "Go and login to [Azure Machine Learning (AML) studio UI](https://ml.azure.com/).<br>\n",
    "Click \"Experiments\" and see the logged run.\n",
    "\n",
    "In AML studio UI, you will see params and metrics tracked by mlflow's ```autolog()```.\n",
    "\n",
    "![Params and metrics](./images/params_metrics.png)"
   ]
  },
  {
   "cell_type": "markdown",
   "id": "ee898291",
   "metadata": {},
   "source": [
    "You can also get params and metrics by MLflow API."
   ]
  },
  {
   "cell_type": "code",
   "execution_count": 7,
   "id": "0783ca9d",
   "metadata": {},
   "outputs": [
    {
     "name": "stdout",
     "output_type": "stream",
     "text": [
      "params: {'alpha': '0.5', 'copy_X': 'True', 'fit_intercept': 'True', 'l1_ratio': '0.5', 'max_iter': '1000', 'normalize': 'deprecated', 'positive': 'False', 'precompute': 'False', 'random_state': '42', 'selection': 'cyclic', 'tol': '0.0001', 'warm_start': 'False'}\n",
      "metrics: {'training_mae': 0.6108990512309974, 'training_mse': 0.5707319629401092, 'training_score': 0.12745381890406593, 'training_r2_score': 0.12745381890406593, 'training_rmse': 0.7554680423023261}\n"
     ]
    }
   ],
   "source": [
    "from mlflow.tracking import MlflowClient\n",
    "\n",
    "run_result = MlflowClient().get_run(run.info.run_id)\n",
    "print(\"params: {}\".format(run_result.data.params))\n",
    "print(\"metrics: {}\".format(run_result.data.metrics))"
   ]
  },
  {
   "cell_type": "markdown",
   "id": "e184fb82",
   "metadata": {},
   "source": [
    "When you see in outputs, you will find that the trained model is automatically saved in ```model``` folder.\n",
    "\n",
    "![Model output](./images/model_output.png)"
   ]
  },
  {
   "cell_type": "markdown",
   "id": "bd8dcacc",
   "metadata": {},
   "source": [
    "You can also list artifacts in output folder with MLflow API. (See \"[Exercise04 : Model management and deployment](./04_model_deploy)\" for ```MLmodel``` file.)"
   ]
  },
  {
   "cell_type": "code",
   "execution_count": 8,
   "id": "5d2867f8",
   "metadata": {},
   "outputs": [
    {
     "name": "stdout",
     "output_type": "stream",
     "text": [
      "artifacts: ['model/MLmodel', 'model/conda.yaml', 'model/model.pkl', 'model/requirements.txt']\n"
     ]
    }
   ],
   "source": [
    "artifacts = [f.path for f in MlflowClient().list_artifacts(run_result.info.run_id, \"model\")]\n",
    "print(\"artifacts: {}\".format(artifacts))"
   ]
  }
 ],
 "metadata": {
  "kernelspec": {
   "display_name": "Python 3 (ipykernel)",
   "language": "python",
   "name": "python3"
  },
  "language_info": {
   "codemirror_mode": {
    "name": "ipython",
    "version": 3
   },
   "file_extension": ".py",
   "mimetype": "text/x-python",
   "name": "python",
   "nbconvert_exporter": "python",
   "pygments_lexer": "ipython3",
   "version": "3.8.10"
  }
 },
 "nbformat": 4,
 "nbformat_minor": 5
}
